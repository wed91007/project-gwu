{
 "cells": [
  {
   "cell_type": "code",
   "execution_count": 11,
   "metadata": {},
   "outputs": [],
   "source": [
    "import numpy as np"
   ]
  },
  {
   "cell_type": "code",
   "execution_count": 2,
   "metadata": {},
   "outputs": [],
   "source": [
    "states = ('Healthy','Fever')\n",
    "\n",
    "observations=('normal','cold','dizzy')\n",
    "\n",
    "start_probability = {'Healthy':0.6,'Fever':0.4}\n",
    "\n",
    "transition_probability = {\n",
    "    'Healthy': {'Healthy': 0.7, 'Fever': 0.3},\n",
    "    'Fever': {'Healthy': 0.4, 'Fever': 0.6},\n",
    "}\n",
    "\n",
    "emission_probability={\n",
    "    'Healthy':{'normal':0.5,'cold':0.4,'dizzy':0.1},\n",
    "    'Fever':{'normal':0.1,'cold':0.3,'dizzy':0.6},\n",
    "}"
   ]
  },
  {
   "cell_type": "code",
   "execution_count": 12,
   "metadata": {},
   "outputs": [],
   "source": [
    "#generate observation and state sequence randomly in length T\n",
    "def simulate(T):\n",
    "    def draw_from(probs):\n",
    "        return np.where(np.random.multinomial(1,probs)==1)[0][0]\n",
    "    \n",
    "    observations = np.zeros(T, dtype=int)#initialize ob\n",
    "    states = np.zeros(T, dtype=int)#initialize states\n",
    "    states[0] = draw_from(pi) #first state\n",
    "    observations[0] = draw_from(B[states[0],:]) #first ob using B\n",
    "    \n",
    "    for t in range(1,T):#generate sequence\n",
    "        states[t] = draw_from(A[states[t-1],:])\n",
    "        observations[t] = draw_from(B[states[t],:])\n",
    "    return observations, states"
   ]
  },
  {
   "cell_type": "code",
   "execution_count": 13,
   "metadata": {},
   "outputs": [],
   "source": [
    "def generate_index_map(labels):\n",
    "    id2label = {}\n",
    "    label2id = {}\n",
    "    i=0\n",
    "    for l in labels:\n",
    "        id2label[i] = l\n",
    "        label2id[l] = i\n",
    "        i+=1\n",
    "    return id2label, label2id\n"
   ]
  },
  {
   "cell_type": "code",
   "execution_count": 23,
   "metadata": {
    "scrolled": true
   },
   "outputs": [
    {
     "name": "stdout",
     "output_type": "stream",
     "text": [
      "{0: 'Healthy', 1: 'Fever'} {'Healthy': 0, 'Fever': 1}\n",
      "{0: 'normal', 1: 'cold', 2: 'dizzy'} {'normal': 0, 'cold': 1, 'dizzy': 2}\n"
     ]
    }
   ],
   "source": [
    "states_id2label, states_label2id = generate_index_map(states)\n",
    "observations_id2label, observations_label2id = generate_index_map(observations)\n",
    "print(states_id2label, states_label2id)\n",
    "print(observations_id2label, observations_label2id)"
   ]
  },
  {
   "cell_type": "code",
   "execution_count": 16,
   "metadata": {},
   "outputs": [],
   "source": [
    "def convert_map_to_vector(map_,label2id):\n",
    "    #convert prob from dict to 1-d array\n",
    "    v = np.zeros(len(map_), dtype=float)\n",
    "    for e in map_:\n",
    "        v[label2id[e]]= map_[e]\n",
    "    return v\n",
    "\n",
    "def convert_map_to_matrix(map_,label2id1,label2id2):\n",
    "    #convert prob from dict to matrix\n",
    "    m = np.zeros((len(label2id1),len(label2id2)),dtype=float)\n",
    "    for line in map_:\n",
    "        for col in map_[line]:\n",
    "            m[label2id1[line]][label2id2[col]] = map_[line][col]\n",
    "    return m"
   ]
  },
  {
   "cell_type": "code",
   "execution_count": 19,
   "metadata": {
    "scrolled": true
   },
   "outputs": [
    {
     "name": "stdout",
     "output_type": "stream",
     "text": [
      "[[0.7 0.3]\n",
      " [0.4 0.6]]\n",
      "[[0.5 0.4 0.1]\n",
      " [0.1 0.3 0.6]]\n",
      "[0.6 0.4]\n"
     ]
    }
   ],
   "source": [
    "A = convert_map_to_matrix(transition_probability, states_label2id, states_label2id)\n",
    "print(A)\n",
    "\n",
    "B = convert_map_to_matrix(emission_probability, states_label2id, observations_label2id)\n",
    "print(B)\n",
    "\n",
    "pi = convert_map_to_vector(start_probability, states_label2id)\n",
    "print(pi)"
   ]
  },
  {
   "cell_type": "code",
   "execution_count": 24,
   "metadata": {
    "scrolled": true
   },
   "outputs": [
    {
     "name": "stdout",
     "output_type": "stream",
     "text": [
      "[2 0 0 0 2 2 2 2 2 1]\n",
      "[1 0 0 0 1 1 1 1 0 0]\n",
      "States of patients: ['Fever', 'Healthy', 'Healthy', 'Healthy', 'Fever', 'Fever', 'Fever', 'Fever', 'Healthy', 'Healthy']\n",
      "Observations of patients: ['dizzy', 'normal', 'normal', 'normal', 'dizzy', 'dizzy', 'dizzy', 'dizzy', 'dizzy', 'cold']\n"
     ]
    }
   ],
   "source": [
    "#generate simulate data\n",
    "observations_data, states_data = simulate(10)\n",
    "print(observations_data)\n",
    "print(states_data)\n",
    "\n",
    "print(\"States of patients:\", [states_id2label[index] for index in states_data])\n",
    "print(\"Observations of patients:\", [observations_id2label[index] for index in observations_data])"
   ]
  },
  {
   "cell_type": "code",
   "execution_count": null,
   "metadata": {},
   "outputs": [],
   "source": [
    "def forward(obs_seq):\n",
    "    #forward algorithm\n",
    "    N = A.shape[0] #number of rows in A,which means state number\n",
    "    T = len(obs_seq)\n",
    "    \n",
    "    #F stores forward probability\n",
    "    F = np.zeros((N,T))\n",
    "    F[:,0] = pi * B[:, obs_seq[0]]\n",
    "    \n",
    "    for t in range(1,T):\n",
    "        for n in range(N):\n",
    "            F[n,t]\n",
    "    "
   ]
  }
 ],
 "metadata": {
  "kernelspec": {
   "display_name": "tensorflow",
   "language": "python",
   "name": "tensorflow"
  },
  "language_info": {
   "codemirror_mode": {
    "name": "ipython",
    "version": 3
   },
   "file_extension": ".py",
   "mimetype": "text/x-python",
   "name": "python",
   "nbconvert_exporter": "python",
   "pygments_lexer": "ipython3",
   "version": "3.7.3"
  }
 },
 "nbformat": 4,
 "nbformat_minor": 2
}
